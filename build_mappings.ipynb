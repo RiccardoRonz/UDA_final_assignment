{
 "cells": [
  {
   "cell_type": "markdown",
   "metadata": {},
   "source": [
    "# Import Relevant Libraries"
   ]
  },
  {
   "cell_type": "code",
   "execution_count": 3,
   "metadata": {},
   "outputs": [],
   "source": [
    "import requests\n",
    "import bs4 as bs\n",
    "import pandas as pd\n",
    "import os\n",
    "from fake_useragent import UserAgent"
   ]
  },
  {
   "cell_type": "markdown",
   "metadata": {},
   "source": [
    "# Environment Specifics"
   ]
  },
  {
   "cell_type": "code",
   "execution_count": 4,
   "metadata": {},
   "outputs": [
    {
     "name": "stdout",
     "output_type": "stream",
     "text": [
      "python version:  3.10.6 | packaged by conda-forge | (main, Aug 22 2022, 20:38:29) [Clang 13.0.1 ]\n",
      "pandas version:  1.5.0\n",
      "requests version:  2.28.1\n",
      "bs4 version:  4.11.1\n"
     ]
    }
   ],
   "source": [
    "print('python version: ', os.sys.version)\n",
    "print('pandas version: ', pd.__version__)\n",
    "print('requests version: ', requests.__version__)\n",
    "print('bs4 version: ', bs.__version__)"
   ]
  },
  {
   "cell_type": "markdown",
   "metadata": {},
   "source": [
    "# Specify Relevant URLs\n",
    "\n",
    "The cell below contains the SEC and Wikipedia URLs used to scrape the data. A detailed description of the process followed can be found in the accompanying report."
   ]
  },
  {
   "cell_type": "code",
   "execution_count": 2,
   "metadata": {},
   "outputs": [],
   "source": [
    "# Relevant URLs\n",
    "\n",
    "# URL for the SEC's list of CIKs and tickers\n",
    "cik_mapping_url = 'https://www.sec.gov/files/company_tickers.json'\n",
    "# URL for the SEC's list of filings for a given CIK\n",
    "doc_10K_index_url = 'https://www.sec.gov/cgi-bin/browse-edgar?action=getcompany&CIK={cik}&type=10-K&dateb=&owner=exclude&count=10'\n",
    "doc_10KA_index_url = 'https://www.sec.gov/cgi-bin/browse-edgar?action=getcompany&CIK={cik}&type=10-K%2FA&dateb=&owner=exclude&count=10'\n",
    "# SP500 data\n",
    "sp500_url = 'https://en.wikipedia.org/wiki/List_of_S%26P_500_companies'"
   ]
  },
  {
   "cell_type": "markdown",
   "metadata": {},
   "source": [
    "# Helper Functions\n",
    "\n",
    "Helper functions are defined below. These functions are used to scrape the data from the SEC and Wikipedia. Each function is carefully documented."
   ]
  },
  {
   "cell_type": "code",
   "execution_count": 3,
   "metadata": {},
   "outputs": [],
   "source": [
    "# Helper functions\n",
    "def index_filter(tag: bs.element.Tag) -> str:\n",
    "    \"\"\"Filter tags to identify the 10-K document links\n",
    "\n",
    "    Args:\n",
    "        tag (bs.element.Tag): Tag to be inspected\n",
    "\n",
    "    Returns:\n",
    "        str: True if the tag is a link to a 10-K document, None otherwise\n",
    "    \"\"\"\n",
    "    if tag.name == 'a' and tag.has_attr('href'):\n",
    "        href = tag['href']\n",
    "        return href.startswith('/Archives/edgar/data/') and href.endswith('-index.htm')\n",
    "    return False\n",
    "\n",
    "def get_10K_url(cik: str, headers: dict) -> str:\n",
    "    \"\"\"Given a CIK, get the URL of the most recent 10-K document.\n",
    "\n",
    "    Args:\n",
    "        cik (str): CIK identifier\n",
    "        headers (dict): Headers to be used in the request\n",
    "\n",
    "    Returns:\n",
    "        str: URL of the most recent 10-K document, None if no 10-K document is found\n",
    "    \"\"\"\n",
    "    # Get 10-Ks\n",
    "    response_10K = requests.get(url=doc_10K_index_url.format(cik=cik), headers=headers)\n",
    "    soup_10K = bs.BeautifulSoup(response_10K.text, 'lxml')\n",
    "    tags_10K = soup_10K.find_all(index_filter)\n",
    "    # Get 10-K/As (amendments)\n",
    "    response_10KA = requests.get(url=doc_10KA_index_url.format(cik=cik), headers=headers)\n",
    "    soup_10KA = bs.BeautifulSoup(response_10KA.text, 'lxml')\n",
    "    tags_10KA = soup_10KA.find_all(index_filter)\n",
    "    # Remove 10-K/As from 10-Ks\n",
    "    tags = [tag for tag in tags_10K if tag not in tags_10KA]\n",
    "    # Return URL of most recent 10-K, if any\n",
    "    if len(tags) > 0:\n",
    "        return 'https://www.sec.gov' + tags[0]['href'][:-10] + '.txt'\n",
    "    return None"
   ]
  },
  {
   "cell_type": "markdown",
   "metadata": {},
   "source": [
    "# Scrape SEC Data\n",
    "\n",
    "The cell below scrapes the SEC data. The data is scraped from the SEC website and saved as a CSV file. A detailed description of the process followed can be found in the accompanying report."
   ]
  },
  {
   "cell_type": "code",
   "execution_count": 4,
   "metadata": {},
   "outputs": [],
   "source": [
    "# Set headers\n",
    "headers = {'User-Agent': UserAgent().chrome}\n",
    "\n",
    "# Get the list of tickers from the SEC website, together with the company names and CIKs\n",
    "response = requests.get(url=cik_mapping_url, headers=headers)\n",
    "ciks = pd.DataFrame(response.json()).transpose()\n",
    "ciks = ciks.rename(columns={'cik_str': 'cik', 'title': 'name'})\n",
    "\n",
    "# Get SP500 data\n",
    "sp500 = pd.read_html(sp500_url)[0][['Symbol', 'Security', 'Date added', 'GICS Sector', 'GICS Sub-Industry']].copy()\n",
    "sp500.columns = ['ticker', 'name', 'added', 'sector', 'sub_industry']\n",
    "\n",
    "# Only consider SP500 companies\n",
    "mappings = ciks.merge(sp500, on='ticker', suffixes=('_sec', '_sp500'))\n",
    "# Some companies have multiple tickers (Class A vs Class B shares) which however share the same CIK\n",
    "mappings = mappings.drop_duplicates(subset=['cik'])\n",
    "\n",
    "# For every CIK, get the URL of the most recent 10-K document\n",
    "doc_urls = {'cik': [], 'url' : []}\n",
    "for cik in mappings['cik'].to_list():\n",
    "    doc_urls['cik'].append(cik)\n",
    "    doc_urls['url'].append(get_10K_url(cik, headers))\n",
    "doc_urls = pd.DataFrame(doc_urls)\n",
    "\n",
    "# Add the URLs to the mappings\n",
    "mappings = mappings.merge(doc_urls, on='cik')\n",
    "\n",
    "# Save the mappings\n",
    "mappings.to_csv('mappings.csv', index=False)"
   ]
  },
  {
   "cell_type": "code",
   "execution_count": 5,
   "metadata": {},
   "outputs": [
    {
     "data": {
      "text/html": [
       "<div>\n",
       "<style scoped>\n",
       "    .dataframe tbody tr th:only-of-type {\n",
       "        vertical-align: middle;\n",
       "    }\n",
       "\n",
       "    .dataframe tbody tr th {\n",
       "        vertical-align: top;\n",
       "    }\n",
       "\n",
       "    .dataframe thead th {\n",
       "        text-align: right;\n",
       "    }\n",
       "</style>\n",
       "<table border=\"1\" class=\"dataframe\">\n",
       "  <thead>\n",
       "    <tr style=\"text-align: right;\">\n",
       "      <th></th>\n",
       "      <th>cik</th>\n",
       "      <th>ticker</th>\n",
       "      <th>name_sec</th>\n",
       "      <th>name_sp500</th>\n",
       "      <th>added</th>\n",
       "      <th>sector</th>\n",
       "      <th>sub_industry</th>\n",
       "      <th>url</th>\n",
       "    </tr>\n",
       "  </thead>\n",
       "  <tbody>\n",
       "    <tr>\n",
       "      <th>0</th>\n",
       "      <td>320193</td>\n",
       "      <td>AAPL</td>\n",
       "      <td>Apple Inc.</td>\n",
       "      <td>Apple Inc.</td>\n",
       "      <td>1982-11-30</td>\n",
       "      <td>Information Technology</td>\n",
       "      <td>Technology Hardware, Storage &amp; Peripherals</td>\n",
       "      <td>https://www.sec.gov/Archives/edgar/data/320193...</td>\n",
       "    </tr>\n",
       "    <tr>\n",
       "      <th>1</th>\n",
       "      <td>789019</td>\n",
       "      <td>MSFT</td>\n",
       "      <td>MICROSOFT CORP</td>\n",
       "      <td>Microsoft</td>\n",
       "      <td>1994-06-01</td>\n",
       "      <td>Information Technology</td>\n",
       "      <td>Systems Software</td>\n",
       "      <td>https://www.sec.gov/Archives/edgar/data/789019...</td>\n",
       "    </tr>\n",
       "    <tr>\n",
       "      <th>2</th>\n",
       "      <td>1652044</td>\n",
       "      <td>GOOGL</td>\n",
       "      <td>Alphabet Inc.</td>\n",
       "      <td>Alphabet Inc. (Class A)</td>\n",
       "      <td>2014-04-03</td>\n",
       "      <td>Communication Services</td>\n",
       "      <td>Interactive Media &amp; Services</td>\n",
       "      <td>https://www.sec.gov/Archives/edgar/data/165204...</td>\n",
       "    </tr>\n",
       "    <tr>\n",
       "      <th>3</th>\n",
       "      <td>1018724</td>\n",
       "      <td>AMZN</td>\n",
       "      <td>AMAZON COM INC</td>\n",
       "      <td>Amazon</td>\n",
       "      <td>2005-11-18</td>\n",
       "      <td>Consumer Discretionary</td>\n",
       "      <td>Broadline Retail</td>\n",
       "      <td>https://www.sec.gov/Archives/edgar/data/101872...</td>\n",
       "    </tr>\n",
       "    <tr>\n",
       "      <th>4</th>\n",
       "      <td>1045810</td>\n",
       "      <td>NVDA</td>\n",
       "      <td>NVIDIA CORP</td>\n",
       "      <td>Nvidia</td>\n",
       "      <td>2001-11-30</td>\n",
       "      <td>Information Technology</td>\n",
       "      <td>Semiconductors</td>\n",
       "      <td>https://www.sec.gov/Archives/edgar/data/104581...</td>\n",
       "    </tr>\n",
       "  </tbody>\n",
       "</table>\n",
       "</div>"
      ],
      "text/plain": [
       "       cik ticker        name_sec               name_sp500       added  \\\n",
       "0   320193   AAPL      Apple Inc.               Apple Inc.  1982-11-30   \n",
       "1   789019   MSFT  MICROSOFT CORP                Microsoft  1994-06-01   \n",
       "2  1652044  GOOGL   Alphabet Inc.  Alphabet Inc. (Class A)  2014-04-03   \n",
       "3  1018724   AMZN  AMAZON COM INC                   Amazon  2005-11-18   \n",
       "4  1045810   NVDA     NVIDIA CORP                   Nvidia  2001-11-30   \n",
       "\n",
       "                   sector                                sub_industry  \\\n",
       "0  Information Technology  Technology Hardware, Storage & Peripherals   \n",
       "1  Information Technology                            Systems Software   \n",
       "2  Communication Services                Interactive Media & Services   \n",
       "3  Consumer Discretionary                            Broadline Retail   \n",
       "4  Information Technology                              Semiconductors   \n",
       "\n",
       "                                                 url  \n",
       "0  https://www.sec.gov/Archives/edgar/data/320193...  \n",
       "1  https://www.sec.gov/Archives/edgar/data/789019...  \n",
       "2  https://www.sec.gov/Archives/edgar/data/165204...  \n",
       "3  https://www.sec.gov/Archives/edgar/data/101872...  \n",
       "4  https://www.sec.gov/Archives/edgar/data/104581...  "
      ]
     },
     "execution_count": 5,
     "metadata": {},
     "output_type": "execute_result"
    }
   ],
   "source": [
    "# Show mappings\n",
    "mappings.head()"
   ]
  },
  {
   "cell_type": "code",
   "execution_count": null,
   "metadata": {},
   "outputs": [],
   "source": []
  }
 ],
 "metadata": {
  "kernelspec": {
   "display_name": "univ",
   "language": "python",
   "name": "python3"
  },
  "language_info": {
   "codemirror_mode": {
    "name": "ipython",
    "version": 3
   },
   "file_extension": ".py",
   "mimetype": "text/x-python",
   "name": "python",
   "nbconvert_exporter": "python",
   "pygments_lexer": "ipython3",
   "version": "3.10.6"
  }
 },
 "nbformat": 4,
 "nbformat_minor": 2
}
